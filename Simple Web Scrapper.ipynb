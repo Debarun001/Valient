{
 "cells": [
  {
   "cell_type": "code",
   "execution_count": 1,
   "id": "0b0d7e77-6046-412d-9e0a-58d6ae665239",
   "metadata": {},
   "outputs": [
    {
     "name": "stdout",
     "output_type": "stream",
     "text": [
      "Requirement already satisfied: requests in c:\\users\\debarun\\anaconda3\\lib\\site-packages (2.32.3)\n",
      "Requirement already satisfied: charset-normalizer<4,>=2 in c:\\users\\debarun\\anaconda3\\lib\\site-packages (from requests) (3.3.2)\n",
      "Requirement already satisfied: idna<4,>=2.5 in c:\\users\\debarun\\anaconda3\\lib\\site-packages (from requests) (3.7)\n",
      "Requirement already satisfied: urllib3<3,>=1.21.1 in c:\\users\\debarun\\anaconda3\\lib\\site-packages (from requests) (2.2.3)\n",
      "Requirement already satisfied: certifi>=2017.4.17 in c:\\users\\debarun\\anaconda3\\lib\\site-packages (from requests) (2025.4.26)\n",
      "Note: you may need to restart the kernel to use updated packages.\n"
     ]
    }
   ],
   "source": [
    "pip install requests"
   ]
  },
  {
   "cell_type": "code",
   "execution_count": 2,
   "id": "b013b9bc-54b7-4288-aef1-cbc0dafd63ad",
   "metadata": {},
   "outputs": [
    {
     "name": "stdout",
     "output_type": "stream",
     "text": [
      "Requirement already satisfied: beautifulsoup4 in c:\\users\\debarun\\anaconda3\\lib\\site-packages (4.12.3)\n",
      "Requirement already satisfied: soupsieve>1.2 in c:\\users\\debarun\\anaconda3\\lib\\site-packages (from beautifulsoup4) (2.5)\n",
      "Note: you may need to restart the kernel to use updated packages.\n"
     ]
    }
   ],
   "source": [
    "pip install beautifulsoup4"
   ]
  },
  {
   "cell_type": "code",
   "execution_count": null,
   "id": "2b031572-3945-4cf3-b6bf-dbd04d79983e",
   "metadata": {},
   "outputs": [],
   "source": [
    "import requests\n",
    "from bs4 import BeautifulSoup\n",
    "\n",
    "def scrape_website(url):\n",
    "    try:\n",
    "        response = requests.get(url)\n",
    "        response.raise_for_status() # Raise an exception for HTTP errors (4xx or 5xx)\n",
    "    except requests.exceptions.RequestException as e:\n",
    "        print(f\"Error fetching URL {url}: {e}\")\n",
    "        return\n",
    "\n",
    "    soup = BeautifulSoup(response.text, 'html.parser')\n",
    "\n",
    "    # Example: Scrape all paragraph texts\n",
    "    paragraphs = soup.find_all('p')\n",
    "    print(f\"\\n--- Paragraphs from {url} ---\")\n",
    "    for p in paragraphs:\n",
    "        print(p.get_text())\n",
    "\n",
    "    # Example: Scrape all links\n",
    "    links = soup.find_all('a')\n",
    "    print(f\"\\n--- Links from {url} ---\")\n",
    "    for link in links:\n",
    "        href = link.get('href')\n",
    "        text = link.get_text().strip()\n",
    "        if href and text: # Only print if both href and text exist\n",
    "            print(f\"Text: {text}, URL: {href}\")\n",
    "    \n",
    "    # You can add more specific scraping here, e.g., by class or ID\n",
    "    # For example, find an element with a specific class:\n",
    "    # my_specific_div = soup.find('div', class_='some-class-name')\n",
    "    # if my_specific_div:\n",
    "    #    print(f\"\\nContent of specific div: {my_specific_div.get_text().strip()}\")\n",
    "\n",
    "\n",
    "if __name__ == \"__main__\":\n",
    "    target_url = input(\"Enter the URL to scrape (e.g., https://www.google.com): \")\n",
    "    scrape_website(target_url)"
   ]
  },
  {
   "cell_type": "code",
   "execution_count": null,
   "id": "d212fa4a-ae2e-4759-baf3-3399df319081",
   "metadata": {},
   "outputs": [],
   "source": []
  }
 ],
 "metadata": {
  "kernelspec": {
   "display_name": "Python [conda env:base] *",
   "language": "python",
   "name": "conda-base-py"
  },
  "language_info": {
   "codemirror_mode": {
    "name": "ipython",
    "version": 3
   },
   "file_extension": ".py",
   "mimetype": "text/x-python",
   "name": "python",
   "nbconvert_exporter": "python",
   "pygments_lexer": "ipython3",
   "version": "3.12.7"
  }
 },
 "nbformat": 4,
 "nbformat_minor": 5
}
